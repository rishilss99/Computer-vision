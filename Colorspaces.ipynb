{
 "cells": [
  {
   "cell_type": "code",
   "execution_count": 21,
   "metadata": {},
   "outputs": [
    {
     "name": "stdout",
     "output_type": "stream",
     "text": [
      "(830, 1245, 3)\n"
     ]
    }
   ],
   "source": [
    "import cv2\n",
    "import numpy as np\n",
    "image = cv2.imread(\"E:\\Rishil's Documents\\Python Programs 3\\Computer Vision(Drishti Project)\\Mastering OpenCV in Python(Udemy)\\Master OpenCV\\images\\input.jpg\")\n",
    "\n",
    "print(image.shape)"
   ]
  },
  {
   "cell_type": "code",
   "execution_count": null,
   "metadata": {},
   "outputs": [],
   "source": [
    "B,G,R=image[116,0]\n",
    "\n",
    "print(str(B) + \" \" + str(G) + \" \" + str(R))"
   ]
  },
  {
   "cell_type": "code",
   "execution_count": null,
   "metadata": {},
   "outputs": [],
   "source": [
    "gray = cv2.cvtColor(image,cv2.COLOR_BGR2GRAY)\n",
    "print(gray.shape)\n",
    "print(gray[0,255])"
   ]
  },
  {
   "cell_type": "code",
   "execution_count": null,
   "metadata": {},
   "outputs": [],
   "source": [
    "hsv_image = cv2.cvtColor(image,cv2.COLOR_BGR2HSV)\n",
    "cv2.imshow(\"HSV\",hsv_image)\n",
    "cv2.imshow(\"Hue\",hsv_image[:,:,0])\n",
    "cv2.imshow(\"Saturation\",hsv_image[:,:,1])\n",
    "cv2.imshow(\"Value\",hsv_image[:,:,2])\n",
    "cv2.imshow(\"Red\",image[:,:,2])\n",
    "cv2.waitKey()\n",
    "cv2.destroyAllWindows()"
   ]
  },
  {
   "cell_type": "code",
   "execution_count": null,
   "metadata": {},
   "outputs": [],
   "source": [
    "import cv2\n",
    "import numpy as np\n",
    "image = cv2.imread(\"E:\\Rishil's Documents\\Python Programs 3\\Computer Vision(Drishti Project)\\Mastering OpenCV in Python(Udemy)\\Master OpenCV\\images\\input.jpg\")\n",
    "B,G,R=cv2.split(image)\n",
    "cv2.imshow(\"Blue\",B)\n",
    "cv2.imshow(\"Greem\",G)\n",
    "cv2.imshow(\"Red\",R)\n",
    "merged = cv2.merge([B+200,G,R])\n",
    "cv2.imshow(\"Enhanced\",merged)\n",
    "cv2.waitKey()\n",
    "cv2.destroyAllWindows()"
   ]
  },
  {
   "cell_type": "code",
   "execution_count": null,
   "metadata": {},
   "outputs": [],
   "source": [
    "import cv2\n",
    "import numpy as np\n",
    "image = cv2.imread(\"E:\\Rishil's Documents\\Python Programs 3\\Computer Vision(Drishti Project)\\Mastering OpenCV in Python(Udemy)\\Master OpenCV\\images\\input.jpg\")\n",
    "B,G,R=cv2.split(image)\n",
    "zeroes = np.zeros(image.shape[0:2],dtype=\"uint8\")\n",
    "cv2.imshow(\"Blue\",cv2.merge([B,zeroes,zeroes]))\n",
    "cv2.imshow(\"Green\",cv2.merge([zeroes,G,zeroes]))\n",
    "cv2.imshow(\"Red\",cv2.merge([zeroes,zeroes,R]))\n",
    "cv2.waitKey()\n",
    "cv2.destroyAllWindows()"
   ]
  }
 ],
 "metadata": {
  "kernelspec": {
   "display_name": "Python 3",
   "language": "python",
   "name": "python3"
  },
  "language_info": {
   "codemirror_mode": {
    "name": "ipython",
    "version": 3
   },
   "file_extension": ".py",
   "mimetype": "text/x-python",
   "name": "python",
   "nbconvert_exporter": "python",
   "pygments_lexer": "ipython3",
   "version": "3.6.5"
  }
 },
 "nbformat": 4,
 "nbformat_minor": 2
}
